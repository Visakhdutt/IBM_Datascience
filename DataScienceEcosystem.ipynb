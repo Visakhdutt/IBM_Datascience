{
 "cells": [
  {
   "cell_type": "markdown",
   "id": "547ff420",
   "metadata": {},
   "source": [
    "# Data Science Tools and Ecosystem"
   ]
  },
  {
   "cell_type": "markdown",
   "id": "75ee1e6f",
   "metadata": {},
   "source": [
    "In this notebook, Data Science Tools and Ecosystem are summarized."
   ]
  },
  {
   "cell_type": "markdown",
   "id": "e4b5e34f",
   "metadata": {},
   "source": [
    "#### Objectives:\n",
    "* List popular languages for Data Science\n",
    "* List popular libraries used by Data Scientists\n",
    "* Create Markdown calls\n",
    "* Add ordered and unordered to markdown cells\n",
    "* Format content of markdown cells with heading styles"
   ]
  },
  {
   "cell_type": "markdown",
   "id": "6e3c4f32",
   "metadata": {},
   "source": [
    "Some of the popular languages that Data Scientists use are:\n",
    "\n",
    "1. Python\n",
    "2. R\n",
    "3. SQL\n",
    "4. Java\n",
    "5. Julia\n",
    "6. Scala\n",
    "7. C++\n",
    "8. JavaScript\n",
    "9. Php\n",
    "10. Ruby"
   ]
  },
  {
   "cell_type": "markdown",
   "id": "9c7d7e77",
   "metadata": {},
   "source": [
    "Some of the commonly used libraries used by Data Scientists include:\n",
    "\n",
    "1. Pandas\n",
    "2. NumPy.\n",
    "3. SciPy.\n",
    "4. Matplotlib.\n",
    "5. SciKit-Learn.\n",
    "6. PyTorch.\n",
    "7. Keras\n",
    "8. Scrapy.\n",
    "9. Apache Spark\n",
    "10. Ggplot2\n",
    "11. Big DL\n",
    "12. Vegas"
   ]
  },
  {
   "cell_type": "markdown",
   "id": "86a01014",
   "metadata": {},
   "source": [
    "| Data Science Tools      | \n",
    "|-------------------------|\n",
    "| Jupyter Notebook        |\n",
    "| RStudio                 |\n",
    "| Anaconda                |"
   ]
  },
  {
   "cell_type": "markdown",
   "id": "fd656e9e",
   "metadata": {},
   "source": [
    "### Below are a few examples of evaluating arithmetic expressions in Python"
   ]
  },
  {
   "cell_type": "code",
   "execution_count": 2,
   "id": "5d521fd9",
   "metadata": {},
   "outputs": [
    {
     "data": {
      "text/plain": [
       "17"
      ]
     },
     "execution_count": 2,
     "metadata": {},
     "output_type": "execute_result"
    }
   ],
   "source": [
    "#This a simple arithmetic expression to mutiply then add integers\n",
    "(3*4)+5"
   ]
  },
  {
   "cell_type": "code",
   "execution_count": 3,
   "id": "1069b3d0",
   "metadata": {},
   "outputs": [
    {
     "data": {
      "text/plain": [
       "3.33"
      ]
     },
     "execution_count": 3,
     "metadata": {},
     "output_type": "execute_result"
    }
   ],
   "source": [
    "#This will convert 200 minutes to hours by diving by 60\n",
    "minutes = 200\n",
    "hours = round(minutes / 60, 2) \n",
    "hours"
   ]
  },
  {
   "cell_type": "markdown",
   "id": "df4a8508",
   "metadata": {},
   "source": [
    "## Author\n",
    "Visakh Dutt P"
   ]
  }
 ],
 "metadata": {
  "kernelspec": {
   "display_name": "Python 3 (ipykernel)",
   "language": "python",
   "name": "python3"
  },
  "language_info": {
   "codemirror_mode": {
    "name": "ipython",
    "version": 3
   },
   "file_extension": ".py",
   "mimetype": "text/x-python",
   "name": "python",
   "nbconvert_exporter": "python",
   "pygments_lexer": "ipython3",
   "version": "3.9.7"
  }
 },
 "nbformat": 4,
 "nbformat_minor": 5
}
